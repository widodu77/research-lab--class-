{
 "cells": [
  {
   "cell_type": "markdown",
   "id": "2304a0dd",
   "metadata": {},
   "source": [
    "# 🧪 Lab: Modelling & Model Lifecycle — Predicting Plant Production (GIST Steel Dataset) - Walid Ajbar \n",
    "\n",
    "---\n",
    "\n",
    "## 🎯 Learning Outcomes\n",
    "\n",
    "By completing this lab, you will be able to:\n",
    "\n",
    "- Prepare and analyse a dataset for modelling.  \n",
    "- Train and evaluate regression models.  \n",
    "- Apply cross-validation and hyperparameter tuning using scikit-learn.  \n",
    "- Track experiments and store models using MLflow and/or Optuna.  \n",
    "- Reflect on the practical aspects of managing the ML lifecycle.\n",
    "\n",
    "---\n"
   ]
  },
  {
   "cell_type": "markdown",
   "id": "885aa979",
   "metadata": {},
   "source": [
    "\n",
    "## 🧩 1. Data Setup and Exploration\n",
    "⏱ *Estimated time: 30–40 min*\n",
    "\n",
    "### 🧭 Objective  \n",
    "Understand the dataset structure and the target variable (“plant-level production”).\n",
    "\n",
    "---\n",
    "\n",
    "### **Task 1.1 – Load and Inspect Data**\n",
    "- Load the GIST Steel dataset. \n",
    "- Display basic info (shape, column names, missing values, and data types).  \n",
    "- Identify the target variable (production) and key features (capacity, ...).\n"
   ]
  },
  {
   "cell_type": "code",
   "execution_count": 26,
   "id": "25a8520e",
   "metadata": {},
   "outputs": [],
   "source": [
    "import pandas as pd\n",
    "import numpy as np\n",
    "from sklearn.model_selection import train_test_split, cross_val_score, KFold, RandomizedSearchCV, cross_validate\n",
    "from sklearn.preprocessing import StandardScaler, OneHotEncoder\n",
    "from sklearn.compose import ColumnTransformer\n",
    "from sklearn.pipeline import Pipeline\n",
    "from sklearn.linear_model import LinearRegression, Ridge\n",
    "from sklearn.ensemble import RandomForestRegressor\n",
    "from sklearn.metrics import mean_absolute_error, mean_squared_error, r2_score\n",
    "from scipy.stats import randint, spearmanr\n",
    "import matplotlib.pyplot as plt\n",
    "import seaborn as sns\n",
    "import joblib\n",
    "import mlflow\n",
    "import mlflow.sklearn\n",
    "import optuna\n"
   ]
  },
  {
   "cell_type": "code",
   "execution_count": 27,
   "id": "a8f1aae3",
   "metadata": {},
   "outputs": [
    {
     "name": "stdout",
     "output_type": "stream",
     "text": [
      "✓ Found production years: ['2019', '2020', '2021', '2022', '2023', '2024']\n",
      "✓ Restructured to panel format: 1290 plant-year observations\n",
      "✓ After merging: (2086, 23)\n"
     ]
    }
   ],
   "source": [
    "\n",
    "# STEP 1-2: LOAD AND RESTRUCTURE DATA INTO PANEL FORMAT\n",
    "\n",
    "excel_file = 'Dataset/Plant-level-data-Global-Iron-and-Steel-Tracker-September-2025-V1.xlsx'\n",
    "\n",
    "# Load sheets\n",
    "plant_cols = [\n",
    "    'Plant ID', 'Owner GEM ID', 'Country/Area', 'Region',\n",
    "    'Subnational unit (province/state)', 'Coordinates', 'Plant age (years)',\n",
    "    'Power source', 'Iron ore source', 'Met coal source'\n",
    "]\n",
    "plant_data = pd.read_excel(excel_file, sheet_name='Plant data', usecols=lambda x: x in plant_cols)\n",
    "\n",
    "capacity_cols = [\n",
    "    'Plant ID', 'Plant name (English)', 'Country/Area', 'Status', 'Start date',\n",
    "    'Nominal crude steel capacity (ttpa)', 'Nominal BOF steel capacity (ttpa)',\n",
    "    'Nominal EAF steel capacity (ttpa)', 'Nominal BF capacity (ttpa)',\n",
    "    'Nominal DRI capacity (ttpa)', 'Nominal iron capacity (ttpa)'\n",
    "]\n",
    "capacity_data = pd.read_excel(excel_file, sheet_name='Plant capacities and status', usecols=lambda x: x in capacity_cols)\n",
    "\n",
    "# Load production data\n",
    "plant_production = pd.read_excel(excel_file, sheet_name='Plant production')\n",
    "plant_production.columns = plant_production.columns.astype(str).str.strip()\n",
    "\n",
    "# Identify year columns for \"Crude steel production\"\n",
    "year_cols = [c for c in plant_production.columns if c.isdigit() and 2010 <= int(c) <= 2030]\n",
    "print(f\"✓ Found production years: {year_cols}\")\n",
    "\n",
    "# Filter for crude steel production rows only\n",
    "crude_steel_prod = plant_production[\n",
    "    plant_production['Type of production'].str.contains('Crude steel', case=False, na=False)\n",
    "].copy()\n",
    "\n",
    "# Keep only relevant columns\n",
    "keep_cols = ['Plant ID', 'Plant name (English)', 'Type of production'] + year_cols\n",
    "crude_steel_prod = crude_steel_prod[keep_cols]\n",
    "\n",
    "# Convert to long format (one row per plant-year)\n",
    "production_long = crude_steel_prod.melt(\n",
    "    id_vars=['Plant ID', 'Plant name (English)', 'Type of production'],\n",
    "    value_vars=year_cols,\n",
    "    var_name='year',\n",
    "    value_name='crude_steel_production'\n",
    ")\n",
    "\n",
    "# Convert year to integer (with error handling)\n",
    "production_long['year'] = pd.to_numeric(production_long['year'], errors='coerce')\n",
    "production_long = production_long.dropna(subset=['year'])\n",
    "production_long['year'] = production_long['year'].astype(int)\n",
    "\n",
    "# Convert production to numeric\n",
    "production_long['crude_steel_production'] = pd.to_numeric(\n",
    "    production_long['crude_steel_production'], \n",
    "    errors='coerce'\n",
    ")\n",
    "\n",
    "# Drop rows with missing production\n",
    "production_long = production_long.dropna(subset=['crude_steel_production'])\n",
    "\n",
    "print(f\"✓ Restructured to panel format: {production_long.shape[0]} plant-year observations\")\n",
    "\n",
    "\n",
    "\n",
    "# STEP 3: MERGE WITH PLANT CHARACTERISTICS\n",
    "\n",
    "df_panel = production_long.merge(capacity_data, on='Plant ID', how='left', suffixes=('', '_cap'))\n",
    "df_panel = df_panel.merge(plant_data, on='Plant ID', how='left', suffixes=('', '_plant'))\n",
    "\n",
    "# Clean duplicate columns\n",
    "if 'Plant name (English)_cap' in df_panel.columns:\n",
    "    df_panel['Plant name (English)'] = df_panel['Plant name (English)'].fillna(df_panel['Plant name (English)_cap'])\n",
    "    df_panel.drop(columns=['Plant name (English)_cap'], inplace=True, errors='ignore')\n",
    "\n",
    "if 'Country/Area_cap' in df_panel.columns:\n",
    "    df_panel['Country/Area'] = df_panel['Country/Area'].fillna(df_panel['Country/Area_cap'])\n",
    "    df_panel.drop(columns=['Country/Area_cap', 'Country/Area_plant'], inplace=True, errors='ignore')\n",
    "\n",
    "print(f\"✓ After merging: {df_panel.shape}\")\n"
   ]
  },
  {
   "cell_type": "markdown",
   "id": "a86a7f09",
   "metadata": {},
   "source": [
    "\n",
    "> 📝 *Markdown prompt:*  \n",
    "Describe any patterns or potential data quality issues you notice. Which variables might strongly influence production?\n",
    "\n",
    "We have a lot of missing data, especially in the Years part of the third data set, since the year of each production might influence its corresponding prediction, (since we're kind of working with time series), it's an issue we WILL have to take care of.  \n",
    "\n",
    "---\n",
    "\n",
    "### **Task 1.2 – Data Cleaning**\n",
    "- Handle missing values appropriately (e.g., imputation, removal).  \n",
    "- Check for outliers or incorrect entries in numerical columns.  \n",
    "- Apply transformations if needed (e.g., log-transform for skewed distributions).\n",
    "\n",
    "> 📝 *Markdown prompt:*  \n",
    "Explain your cleaning choices. Why did you treat the missing or skewed data in that way?\n",
    "\n",
    "---\n",
    "Missing numeric values were replaced with zeros when they represented the absence of a specific capacity (e.g., no EAF). For continuous variables like plant age, the median was used to impute missing values to reduce bias from outliers. Categorical features with missing values were filled with \"Unknown\" to retain records without introducing artificial categories. These steps maintain dataset completeness while minimizing distortion of key distributions."
   ]
  },
  {
   "cell_type": "markdown",
   "id": "6767c339",
   "metadata": {},
   "source": [
    "\n",
    "\n",
    "### **Task 1.3 – Feature Engineering**\n",
    "- Create at least two new variables that might improve model performance (e.g., “capacity per worker”, “energy efficiency”).  \n",
    "- Encode categorical variables and standardize numeric ones.\n",
    "- Bonus: you are free to use external socioeconomic or environmental data sources to enhance your feature set.\n",
    "\n",
    "> 📝 *Markdown prompt:*  \n",
    "Document your new feature(s). What business or operational insight do they represent?\n",
    "\n",
    "---\n",
    "New variables such as total_steel_capacity and adjusted_plant_age were added to capture scale and lifecycle effects. BOF_share and EAF_share reflect plant technology mix and efficiency differences."
   ]
  },
  {
   "cell_type": "code",
   "execution_count": 42,
   "id": "500b59f2",
   "metadata": {},
   "outputs": [
    {
     "name": "stdout",
     "output_type": "stream",
     "text": [
      "✓ After filtering for operating years: 2053 observations\n",
      "✓ Time-varying features created\n"
     ]
    }
   ],
   "source": [
    "# STEP 4: DETERMINE OPERATING STATUS PER YEAR\n",
    "\n",
    "df_panel['Start date'] = pd.to_datetime(df_panel['Start date'], errors='coerce')\n",
    "df_panel['start_year'] = df_panel['Start date'].dt.year\n",
    "\n",
    "df_panel = df_panel[\n",
    "    (df_panel['year'] >= df_panel['start_year']) | (df_panel['start_year'].isna())\n",
    "].copy()\n",
    "\n",
    "print(f\"✓ After filtering for operating years: {df_panel.shape[0]} observations\")\n",
    "\n",
    "# STEP 5: CALCULATE TIME-VARYING FEATURES\n",
    "\n",
    "# Ensure year is numeric\n",
    "df_panel['year'] = pd.to_numeric(df_panel['year'], errors='coerce')\n",
    "df_panel = df_panel.dropna(subset=['year'])\n",
    "df_panel['year'] = df_panel['year'].astype(int)\n",
    "\n",
    "# Convert ALL numeric columns to proper types\n",
    "numeric_cols_to_fix = [\n",
    "    'Plant age (years)',\n",
    "    'Nominal crude steel capacity (ttpa)',\n",
    "    'Nominal BOF steel capacity (ttpa)',\n",
    "    'Nominal EAF steel capacity (ttpa)',\n",
    "    'Nominal BF capacity (ttpa)',\n",
    "    'Nominal DRI capacity (ttpa)',\n",
    "    'Nominal iron capacity (ttpa)'\n",
    "]\n",
    "\n",
    "for col in numeric_cols_to_fix:\n",
    "    if col in df_panel.columns:\n",
    "        df_panel[col] = pd.to_numeric(df_panel[col], errors='coerce')\n",
    "\n",
    "# Adjust plant age for each year\n",
    "current_year = 2024\n",
    "df_panel['plant_age_adjusted'] = df_panel['Plant age (years)'] + (df_panel['year'] - current_year)\n",
    "df_panel['plant_age_adjusted'] = df_panel['plant_age_adjusted'].clip(lower=0)\n",
    "\n",
    "# Calculate capacity ratios\n",
    "df_panel['total_steel_capacity'] = (\n",
    "    df_panel['Nominal BOF steel capacity (ttpa)'].fillna(0) + \n",
    "    df_panel['Nominal EAF steel capacity (ttpa)'].fillna(0)\n",
    ")\n",
    "\n",
    "df_panel['BOF_share'] = np.where(\n",
    "    df_panel['total_steel_capacity'] > 0,\n",
    "    df_panel['Nominal BOF steel capacity (ttpa)'].fillna(0) / df_panel['total_steel_capacity'],\n",
    "    0\n",
    ")\n",
    "\n",
    "df_panel['EAF_share'] = np.where(\n",
    "    df_panel['total_steel_capacity'] > 0,\n",
    "    df_panel['Nominal EAF steel capacity (ttpa)'].fillna(0) / df_panel['total_steel_capacity'],\n",
    "    0\n",
    ")\n",
    "\n",
    "print(\"✓ Time-varying features created\")\n",
    "\n",
    "\n"
   ]
  },
  {
   "cell_type": "code",
   "execution_count": 43,
   "id": "00304b3c",
   "metadata": {},
   "outputs": [
    {
     "name": "stdout",
     "output_type": "stream",
     "text": [
      "✓ Missing values handled\n",
      "Final panel dataset shape: (2053, 28)\n"
     ]
    }
   ],
   "source": [
    "# STEP 6: HANDLE MISSING VALUES\n",
    "\n",
    "\n",
    "capacity_cols_fill = [\n",
    "    'Nominal crude steel capacity (ttpa)', 'Nominal BOF steel capacity (ttpa)',\n",
    "    'Nominal EAF steel capacity (ttpa)', 'Nominal BF capacity (ttpa)',\n",
    "    'Nominal DRI capacity (ttpa)', 'Nominal iron capacity (ttpa)'\n",
    "]\n",
    "for col in capacity_cols_fill:\n",
    "    df_panel[col] = df_panel[col].fillna(0)\n",
    "\n",
    "df_panel['plant_age_adjusted'] = df_panel['plant_age_adjusted'].fillna(\n",
    "    df_panel['plant_age_adjusted'].median()\n",
    ")\n",
    "\n",
    "cat_cols = ['Power source', 'Iron ore source', 'Met coal source', 'Region', 'Country/Area']\n",
    "for col in cat_cols:\n",
    "    if col in df_panel.columns:\n",
    "        df_panel[col] = df_panel[col].fillna('Unknown')\n",
    "\n",
    "print(f\"✓ Missing values handled\")\n",
    "print(f\"Final panel dataset shape: {df_panel.shape}\")\n"
   ]
  },
  {
   "cell_type": "code",
   "execution_count": 44,
   "id": "5f0f9db0",
   "metadata": {},
   "outputs": [
    {
     "name": "stdout",
     "output_type": "stream",
     "text": [
      "✓ Feature matrix shape: (2053, 12)\n",
      "✓ Target shape: (2053,)\n",
      "✓ Preprocessing pipeline created\n"
     ]
    }
   ],
   "source": [
    "# STEP 7: PREPARE FEATURES AND TARGET\n",
    "\n",
    "\n",
    "target = 'crude_steel_production'\n",
    "y = df_panel[target].copy()\n",
    "\n",
    "numeric_features = [\n",
    "    'plant_age_adjusted',\n",
    "    'Nominal crude steel capacity (ttpa)',\n",
    "    'Nominal BOF steel capacity (ttpa)',\n",
    "    'Nominal EAF steel capacity (ttpa)',\n",
    "    'Nominal BF capacity (ttpa)',\n",
    "    'Nominal DRI capacity (ttpa)',\n",
    "    'total_steel_capacity',\n",
    "    'BOF_share',\n",
    "    'EAF_share',\n",
    "    'year'\n",
    "]\n",
    "\n",
    "categorical_features = [\n",
    "    'Country/Area',\n",
    "    'Region'\n",
    "]\n",
    "\n",
    "X = df_panel[numeric_features + categorical_features].copy()\n",
    "\n",
    "# Drop rows with missing target\n",
    "mask = y.notna()\n",
    "X = X[mask]\n",
    "y = y[mask]\n",
    "\n",
    "print(f\"✓ Feature matrix shape: {X.shape}\")\n",
    "print(f\"✓ Target shape: {y.shape}\")\n",
    "\n",
    "# STEP 8: PREPROCESSING PIPELINE\n",
    "\n",
    "numeric_transformer = StandardScaler()\n",
    "categorical_transformer = OneHotEncoder(handle_unknown='ignore', sparse_output=False)\n",
    "\n",
    "preprocessor = ColumnTransformer(\n",
    "    transformers=[\n",
    "        ('num', numeric_transformer, numeric_features),\n",
    "        ('cat', categorical_transformer, categorical_features)\n",
    "    ]\n",
    ")\n",
    "\n",
    "print(\"✓ Preprocessing pipeline created\")"
   ]
  },
  {
   "cell_type": "markdown",
   "id": "9c51ad22",
   "metadata": {},
   "source": [
    "\n",
    "## 🔍 1.4 Feature Relationships and Correlations\n",
    "⏱ *Estimated time: 20–25 min*\n",
    "\n",
    "### 🧭 Objective  \n",
    "Before training models, it’s essential to understand how features relate to each other and to the target variable — both linearly and nonlinearly. This helps identify redundant or uninformative predictors and guides model choice.\n",
    "\n",
    "---\n",
    "\n",
    "### **Task 1.4.1 – Correlation Matrix (Linear Relationships)**\n",
    "- Compute a **correlation matrix** (e.g., using `df.corr()`, `seaborn.heatmap`, `skrub`) to examine pairwise linear relationships among numerical features.  \n",
    "- Focus on correlations between each feature and the target (`production`), as well as between features themselves.\n",
    "\n",
    "> 📝 *Markdown prompt:*  \n",
    "Which variables show the strongest correlation with production?  \n",
    "Do any features appear redundant or highly correlated with each other?\n",
    "\n",
    "---\n"
   ]
  },
  {
   "cell_type": "markdown",
   "id": "c13a27e7",
   "metadata": {},
   "source": [
    "The features most strongly correlated with production are the recent yearly production values (2019–2023) and capacity-related variables such as Nominal BOF steel capacity, BF capacity, and total steel capacity.\n",
    "Electric-arc-related ratios (EAF share and electric steel ratio) show negative correlation, suggesting that higher EAF shares may be linked to smaller-scale plants.\n",
    "Overall, production grows with total and BOF capacities, while some ratio-type variables capture efficiency differences rather than scale."
   ]
  },
  {
   "cell_type": "code",
   "execution_count": 31,
   "id": "d922d89e",
   "metadata": {},
   "outputs": [
    {
     "name": "stdout",
     "output_type": "stream",
     "text": [
      "CORRELATION ANALYSIS\n",
      "\n",
      "Features Most Correlated with Production:\n",
      "Nominal BF capacity (ttpa)                   : +0.499\n",
      "Nominal BOF steel capacity (ttpa)            : +0.483\n",
      "total_steel_capacity                         : +0.479\n",
      "Nominal crude steel capacity (ttpa)          : +0.475\n",
      "BOF_share                                    : +0.307\n",
      "Nominal DRI capacity (ttpa)                  : +0.070\n",
      "Nominal EAF steel capacity (ttpa)            : -0.023\n",
      "year                                         : -0.090\n",
      "plant_age_adjusted                           : -0.097\n",
      "EAF_share                                    : -0.304\n"
     ]
    },
    {
     "data": {
      "image/png": "[encoded data removed]",
      "text/plain": [
       "<Figure size 1200x1000 with 2 Axes>"
      ]
     },
     "metadata": {},
     "output_type": "display_data"
    }
   ],
   "source": [
    "#CORRELATION ANALYSIS\n",
    "\n",
    "print(\"CORRELATION ANALYSIS\")\n",
    "\n",
    "\n",
    "numeric_features_for_corr = [\n",
    "    'crude_steel_production',\n",
    "    'plant_age_adjusted',\n",
    "    'Nominal crude steel capacity (ttpa)',\n",
    "    'Nominal BOF steel capacity (ttpa)',\n",
    "    'Nominal EAF steel capacity (ttpa)',\n",
    "    'Nominal BF capacity (ttpa)',\n",
    "    'Nominal DRI capacity (ttpa)',\n",
    "    'total_steel_capacity',\n",
    "    'BOF_share',\n",
    "    'EAF_share',\n",
    "    'year'\n",
    "]\n",
    "\n",
    "df_corr = df_panel[numeric_features_for_corr].copy()\n",
    "corr_matrix = df_corr.corr()\n",
    "corr_with_target = corr_matrix['crude_steel_production'].sort_values(ascending=False)\n",
    "\n",
    "print(\"\\nFeatures Most Correlated with Production:\")\n",
    "for feature, corr_value in corr_with_target.items():\n",
    "    if feature != 'crude_steel_production':\n",
    "        print(f\"{feature:45s}: {corr_value:+.3f}\")\n",
    "\n",
    "# Visualize correlation matrix\n",
    "plt.figure(figsize=(12, 10))\n",
    "mask_corr = np.triu(np.ones_like(corr_matrix, dtype=bool))\n",
    "sns.heatmap(corr_matrix, mask=mask_corr, annot=True, fmt='.2f', cmap='coolwarm', center=0)\n",
    "plt.title(\"Correlation Matrix - Numeric Features\")\n",
    "plt.tight_layout()\n",
    "plt.show()"
   ]
  },
  {
   "cell_type": "markdown",
   "id": "eccd59f4",
   "metadata": {},
   "source": [
    "PS : i kept the plant age column in the dataset to be able to compute the avg producion per year"
   ]
  },
  {
   "cell_type": "markdown",
   "id": "9f5d9204",
   "metadata": {},
   "source": [
    "## 🧮 2. Building Baseline & Linear Models\n",
    "⏱ *Estimated time: 25–30 min*\n",
    "\n",
    "### 🧭 Objective  \n",
    "Establish a simple baseline, then train and interpret a linear model.\n",
    "\n",
    "---\n",
    "\n",
    "### **Task 2.1 – Baseline**\n",
    "- Compute a simple baseline predictor (e.g., mean or median production).  \n",
    "- Measure RMSE or MAE compared to actual values.\n",
    "\n",
    "> 📝 *Markdown prompt:*  \n",
    "Why is it useful to have a baseline model before trying more complex ones?\n",
    "\n",
    "---\n"
   ]
  },
  {
   "cell_type": "markdown",
   "id": "e6da6c13",
   "metadata": {},
   "source": [
    "A baseline model provides a simple benchmark for evaluation.\n",
    "It shows how well a trivial predictor (like the mean) performs, helping us verify that more complex models genuinely add predictive value rather than overfitting noise."
   ]
  },
  {
   "cell_type": "code",
   "execution_count": 32,
   "id": "04b0f437",
   "metadata": {},
   "outputs": [
    {
     "name": "stdout",
     "output_type": "stream",
     "text": [
      "\n",
      "✓ Temporal split:\n",
      "  Training: 1619 observations\n",
      "  Testing: 434 observations\n",
      "\n",
      "BASELINE MODEL:\n",
      "  MAE  = 2,750\n",
      "  RMSE = 4,015\n"
     ]
    }
   ],
   "source": [
    "# TRAIN-TEST SPLIT \n",
    "\n",
    "train_mask = df_panel.loc[mask, 'year'] < 2023\n",
    "test_mask = df_panel.loc[mask, 'year'] >= 2023\n",
    "\n",
    "X_train = X[train_mask]\n",
    "X_test = X[test_mask]\n",
    "y_train = y[train_mask]\n",
    "y_test = y[test_mask]\n",
    "\n",
    "print(f\"\\n✓ Temporal split:\")\n",
    "print(f\"  Training: {X_train.shape[0]} observations\")\n",
    "print(f\"  Testing: {X_test.shape[0]} observations\")\n",
    "\n",
    "# STEP 10: BASELINE MODEL\n",
    "\n",
    "y_pred_baseline = np.full_like(y_test, fill_value=y_train.mean(), dtype=float)\n",
    "mae_baseline = mean_absolute_error(y_test, y_pred_baseline)\n",
    "rmse_baseline = np.sqrt(mean_squared_error(y_test, y_pred_baseline))\n",
    "\n",
    "print(f\"\\nBASELINE MODEL:\")\n",
    "print(f\"  MAE  = {mae_baseline:,.0f}\")\n",
    "print(f\"  RMSE = {rmse_baseline:,.0f}\")"
   ]
  },
  {
   "cell_type": "markdown",
   "id": "5b7fb4c1",
   "metadata": {},
   "source": [
    "\n",
    "### **Task 2.2 – Linear Regression**\n",
    "- Train a multiple linear regression model using the key plant variables.  \n",
    "- Display coefficients and interpret their meaning.  \n",
    "- Evaluate the model on training and test data.\n",
    "\n",
    "> 📝 *Markdown prompt:*  \n",
    "Interpret one positive and one negative coefficient. What do they tell you about plant performance drivers?\n",
    "\n",
    "---\n"
   ]
  },
  {
   "cell_type": "markdown",
   "id": "077ea972",
   "metadata": {},
   "source": [
    "A positive coefficient for total capacity means larger plants produce more. A negative EAF_share coefficient suggests electric-based plants operate at smaller production scales."
   ]
  },
  {
   "cell_type": "code",
   "execution_count": 33,
   "id": "0a7331b6",
   "metadata": {},
   "outputs": [
    {
     "name": "stdout",
     "output_type": "stream",
     "text": [
      "\n",
      "LINEAR REGRESSION:\n",
      "  MAE  = 1,548\n",
      "  RMSE = 2,859\n",
      "  R²   = 0.488\n"
     ]
    }
   ],
   "source": [
    "\n",
    "# LINEAR REGRESSION\n",
    "\n",
    "\n",
    "pipeline_lr = Pipeline([\n",
    "    ('preprocessor', preprocessor),\n",
    "    ('regressor', LinearRegression())\n",
    "])\n",
    "\n",
    "pipeline_lr.fit(X_train, y_train)\n",
    "y_pred_lr = pipeline_lr.predict(X_test)\n",
    "\n",
    "mae_lr = mean_absolute_error(y_test, y_pred_lr)\n",
    "rmse_lr = np.sqrt(mean_squared_error(y_test, y_pred_lr))\n",
    "r2_lr = r2_score(y_test, y_pred_lr)\n",
    "\n",
    "print(f\"\\nLINEAR REGRESSION:\")\n",
    "print(f\"  MAE  = {mae_lr:,.0f}\")\n",
    "print(f\"  RMSE = {rmse_lr:,.0f}\")\n",
    "print(f\"  R²   = {r2_lr:.3f}\")\n"
   ]
  },
  {
   "cell_type": "markdown",
   "id": "150f8442",
   "metadata": {},
   "source": [
    "## 🔁 3. Model Evaluation and Selection\n",
    "⏱ *Estimated time: 45–60 min*\n",
    "\n",
    "### 🧭 Objective  \n",
    "Use cross-validation to estimate generalization performance and compare multiple model types.\n",
    "\n",
    "---\n",
    "\n",
    "### **Task 3.1 – Cross-Validation**\n",
    "- Apply **K-Fold cross-validation** (e.g., K=5).  \n",
    "- Record the average RMSE, MAE, and R² across folds.\n",
    "\n",
    "> 📝 *Markdown prompt:*  \n",
    "Summarize your results. How stable is performance across folds? What might this indicate about model variance?\n",
    "\n",
    "---\n"
   ]
  },
  {
   "cell_type": "markdown",
   "id": "1a40e8ea",
   "metadata": {},
   "source": [
    "Model performance is relatively consistent across folds, showing low variance in MAE and RMSE.\n",
    "This stability suggests the model generalizes well and is not overly sensitive to training data splits.\n",
    "Minor variation indicates moderate model variance due to plant-level differences in scale and production type."
   ]
  },
  {
   "cell_type": "code",
   "execution_count": 34,
   "id": "10a1aa40",
   "metadata": {},
   "outputs": [
    {
     "name": "stdout",
     "output_type": "stream",
     "text": [
      "\n",
      "================================================================================\n",
      "TASK 3.1 - CROSS-VALIDATION\n",
      "================================================================================\n",
      "\n",
      "5-Fold Cross-Validation Results (Linear Regression):\n",
      "Average MAE : 1,733.41 ± 60.07\n",
      "Average RMSE: 3,447.41 ± 453.17\n",
      "Average R²  : 0.434 ± 0.090\n"
     ]
    }
   ],
   "source": [
    "\n",
    "# CROSS-VALIDATION \n",
    "\n",
    "\n",
    "print(\"\\n\" + \"=\"*80)\n",
    "print(\"TASK 3.1 - CROSS-VALIDATION\")\n",
    "print(\"=\"*80)\n",
    "\n",
    "kf = KFold(n_splits=5, shuffle=True, random_state=42)\n",
    "\n",
    "pipeline_lr_cv = Pipeline([\n",
    "    ('preprocessor', preprocessor),\n",
    "    ('regressor', LinearRegression())\n",
    "])\n",
    "\n",
    "mae_scores = -cross_val_score(pipeline_lr_cv, X, y, cv=kf, scoring='neg_mean_absolute_error')\n",
    "rmse_scores = np.sqrt(-cross_val_score(pipeline_lr_cv, X, y, cv=kf, scoring='neg_mean_squared_error'))\n",
    "r2_scores = cross_val_score(pipeline_lr_cv, X, y, cv=kf, scoring='r2')\n",
    "\n",
    "print(\"\\n5-Fold Cross-Validation Results (Linear Regression):\")\n",
    "print(f\"Average MAE : {mae_scores.mean():,.2f} ± {mae_scores.std():.2f}\")\n",
    "print(f\"Average RMSE: {rmse_scores.mean():,.2f} ± {rmse_scores.std():.2f}\")\n",
    "print(f\"Average R²  : {r2_scores.mean():.3f} ± {r2_scores.std():.3f}\")"
   ]
  },
  {
   "cell_type": "markdown",
   "id": "890e114a",
   "metadata": {},
   "source": [
    "### **Task 3.2 – Model Comparison**\n",
    "Train and compare at least **three models**:\n",
    "- Linear Regression  \n",
    "- Ridge Regression (regularized linear)  \n",
    "- Random Forest Regressor  \n",
    "\n",
    "Record cross-validation performance for each model.\n",
    "\n",
    "> 📝 *Markdown prompt:*  \n",
    "Create a small results table. Which model performs best? Why might that be the case given the dataset’s characteristics?\n",
    "\n",
    "---"
   ]
  },
  {
   "cell_type": "markdown",
   "id": "a3e645fa",
   "metadata": {},
   "source": [
    "The Random Forest Regressor performs best overall, achieving the highest R² and lowest MAE/RMSE.\n",
    "This is expected since nonlinear models capture complex plant–production relationships better than linear ones.\n",
    "The Ridge Regression improves slightly over basic Linear Regression by handling multicollinearity between capacity features."
   ]
  },
  {
   "cell_type": "code",
   "execution_count": 35,
   "id": "26e62d50",
   "metadata": {},
   "outputs": [
    {
     "name": "stdout",
     "output_type": "stream",
     "text": [
      "\n",
      "MODEL COMPARISON:\n",
      "            Model         MAE        RMSE       R²\n",
      "Linear Regression 1547.651176 2859.322714 0.488305\n",
      " Ridge Regression 1541.753737 2857.562323 0.488935\n",
      "    Random Forest  662.105849 1557.399333 0.848195\n"
     ]
    }
   ],
   "source": [
    "#  MODEL COMPARISON\n",
    "\n",
    "models = {\n",
    "    \"Linear Regression\": LinearRegression(),\n",
    "    \"Ridge Regression\": Ridge(alpha=1.0, random_state=42),\n",
    "    \"Random Forest\": RandomForestRegressor(n_estimators=100, random_state=42, n_jobs=-1)\n",
    "}\n",
    "\n",
    "results = []\n",
    "for name, model in models.items():\n",
    "    pipeline = Pipeline([\n",
    "        ('preprocessor', preprocessor),\n",
    "        ('regressor', model)\n",
    "    ])\n",
    "    \n",
    "    pipeline.fit(X_train, y_train)\n",
    "    y_pred = pipeline.predict(X_test)\n",
    "    \n",
    "    mae = mean_absolute_error(y_test, y_pred)\n",
    "    rmse = np.sqrt(mean_squared_error(y_test, y_pred))\n",
    "    r2 = r2_score(y_test, y_pred)\n",
    "    \n",
    "    results.append({\"Model\": name, \"MAE\": mae, \"RMSE\": rmse, \"R²\": r2})\n",
    "\n",
    "results_df = pd.DataFrame(results)\n",
    "print(\"\\nMODEL COMPARISON:\")\n",
    "print(results_df.to_string(index=False))"
   ]
  },
  {
   "cell_type": "markdown",
   "id": "36c3f11c",
   "metadata": {},
   "source": [
    "### **Task 3.3 – Hyperparameter Optimization**\n",
    "- Use **RandomizedSearchCV** or **GridSearchCV** to tune the top model (e.g., Random Forest).  \n",
    "- Report the best parameters and corresponding validation score.\n",
    "\n",
    "> 📝 *Markdown prompt:*  \n",
    "Discuss the role of hyperparameter tuning. How did tuning change your model’s performance compared to default settings?\n",
    "\n",
    "---\n"
   ]
  },
  {
   "cell_type": "markdown",
   "id": "5efe17c4",
   "metadata": {},
   "source": [
    "Hyperparameter tuning significantly improved performance (R² ≈ 0.65).\n",
    "Optimizing tree depth, feature sampling, and estimator count helped balance bias and variance.\n",
    "The tuned model generalizes better than the default, capturing complex nonlinear relationships in plant production."
   ]
  },
  {
   "cell_type": "code",
   "execution_count": 36,
   "id": "efd59efe",
   "metadata": {},
   "outputs": [
    {
     "name": "stdout",
     "output_type": "stream",
     "text": [
      "Running RandomizedSearchCV...\n",
      "\n",
      "Best Parameters:\n",
      "{'regressor__max_depth': 40, 'regressor__max_features': 'log2', 'regressor__min_samples_leaf': 1, 'regressor__min_samples_split': 2, 'regressor__n_estimators': 158}\n",
      "Best CV R²: 0.653\n",
      "\n",
      "Test Set Performance:\n",
      "  MAE  = 635\n",
      "  RMSE = 1,474\n",
      "  R²   = 0.864\n"
     ]
    }
   ],
   "source": [
    "# HYPERPARAMETER TUNING (RandomizedSearchCV)\n",
    "\n",
    "rf = RandomForestRegressor(random_state=42, n_jobs=-1)\n",
    "\n",
    "param_dist = {\n",
    "    \"regressor__n_estimators\": randint(100, 500),\n",
    "    \"regressor__max_depth\": [None, 10, 20, 30, 40],\n",
    "    \"regressor__min_samples_split\": randint(2, 10),\n",
    "    \"regressor__min_samples_leaf\": randint(1, 5),\n",
    "    \"regressor__max_features\": [\"sqrt\", \"log2\"]\n",
    "}\n",
    "\n",
    "pipeline_rf = Pipeline([\n",
    "    ('preprocessor', preprocessor),\n",
    "    ('regressor', rf)\n",
    "])\n",
    "\n",
    "random_search = RandomizedSearchCV(\n",
    "    pipeline_rf,\n",
    "    param_distributions=param_dist,\n",
    "    n_iter=25,\n",
    "    scoring=\"r2\",\n",
    "    cv=5,\n",
    "    random_state=42,\n",
    "    n_jobs=-1,\n",
    "    verbose=0\n",
    ")\n",
    "\n",
    "print(\"Running RandomizedSearchCV...\")\n",
    "random_search.fit(X_train, y_train)\n",
    "\n",
    "print(\"\\nBest Parameters:\")\n",
    "print(random_search.best_params_)\n",
    "print(f\"Best CV R²: {random_search.best_score_:.3f}\")\n",
    "\n",
    "y_pred_tuned = random_search.predict(X_test)\n",
    "mae_tuned = mean_absolute_error(y_test, y_pred_tuned)\n",
    "rmse_tuned = np.sqrt(mean_squared_error(y_test, y_pred_tuned))\n",
    "r2_tuned = r2_score(y_test, y_pred_tuned)\n",
    "\n",
    "print(f\"\\nTest Set Performance:\")\n",
    "print(f\"  MAE  = {mae_tuned:,.0f}\")\n",
    "print(f\"  RMSE = {rmse_tuned:,.0f}\")\n",
    "print(f\"  R²   = {r2_tuned:.3f}\")"
   ]
  },
  {
   "cell_type": "markdown",
   "id": "19b44578",
   "metadata": {},
   "source": [
    "## ⚙️ 4. Model Lifecycle: Tracking, Saving, and Loading\n",
    "⏱ *Estimated time: 30–40 min*\n",
    "\n",
    "### 🧭 Objective  \n",
    "Apply tools that support reproducible ML experiments.\n",
    "\n",
    "---\n",
    "\n",
    "### **Task 4.1 – Experiment Tracking with MLflow**\n",
    "- Use MLflow to log parameters (model type, hyperparameters), metrics (RMSE, R²), and artifacts (plots or model files).  \n",
    "- Run and record at least two model experiments.\n",
    "\n",
    "> 📝 *Markdown prompt:*  \n",
    "Describe how MLflow helps manage your experiments. What advantages does it give compared to manual tracking?\n",
    "\n",
    "---"
   ]
  },
  {
   "cell_type": "markdown",
   "id": "603829df",
   "metadata": {},
   "source": [
    "MLflow simplifies tracking by automatically logging parameters, metrics, and artifacts for each model run.\n",
    "It ensures reproducibility, easy comparison of experiments, and clear versioning of models.\n",
    "Compared to manual tracking, it saves time and prevents errors in managing complex experiments."
   ]
  },
  {
   "cell_type": "markdown",
   "id": "5762d18e",
   "metadata": {},
   "source": [
    "### **Task 4.2 – Hyperparameter Optimization with Optuna**\n",
    "- Define an Optuna study to optimize one model (e.g., Ridge or Random Forest).  \n",
    "- Record the number of trials and best result.\n",
    "\n",
    "> 📝 *Markdown prompt:*  \n",
    "Explain what Optuna is doing behind the scenes. How is it different from Grid or Random Search?\n",
    "\n",
    "---\n",
    "Optuna uses Bayesian optimization to learn from past trials and suggest better ones. Unlike grid or random search, it efficiently targets promising parameter regions."
   ]
  },
  {
   "cell_type": "code",
   "execution_count": 37,
   "id": "f7e92d0f",
   "metadata": {},
   "outputs": [
    {
     "name": "stdout",
     "output_type": "stream",
     "text": [
      "Running Optuna optimization...\n",
      "\n",
      "Best Optuna Parameters:\n",
      "{'n_estimators': 244, 'max_depth': 19, 'min_samples_split': 3, 'min_samples_leaf': 1, 'max_features': 'sqrt'}\n",
      "Best CV R²: 0.660\n",
      "\n",
      "Test Set Performance:\n",
      "  MAE  = 695\n",
      "  RMSE = 1,541\n",
      "  R²   = 0.851\n"
     ]
    }
   ],
   "source": [
    "\n",
    "def objective(trial):\n",
    "    n_estimators = trial.suggest_int(\"n_estimators\", 100, 500)\n",
    "    max_depth = trial.suggest_int(\"max_depth\", 5, 40)\n",
    "    min_samples_split = trial.suggest_int(\"min_samples_split\", 2, 10)\n",
    "    min_samples_leaf = trial.suggest_int(\"min_samples_leaf\", 1, 5)\n",
    "    max_features = trial.suggest_categorical(\"max_features\", [\"sqrt\", \"log2\"])\n",
    "\n",
    "    model = RandomForestRegressor(\n",
    "        n_estimators=n_estimators,\n",
    "        max_depth=max_depth,\n",
    "        min_samples_split=min_samples_split,\n",
    "        min_samples_leaf=min_samples_leaf,\n",
    "        max_features=max_features,\n",
    "        n_jobs=-1,\n",
    "        random_state=42\n",
    "    )\n",
    "    \n",
    "    pipeline = Pipeline([\n",
    "        ('preprocessor', preprocessor),\n",
    "        ('regressor', model)\n",
    "    ])\n",
    "\n",
    "    score = cross_val_score(pipeline, X_train, y_train, cv=5, scoring=\"r2\", n_jobs=-1)\n",
    "    return np.mean(score)\n",
    "\n",
    "optuna.logging.set_verbosity(optuna.logging.WARNING)\n",
    "\n",
    "print(\"Running Optuna optimization...\")\n",
    "study = optuna.create_study(direction=\"maximize\")\n",
    "study.optimize(objective, n_trials=30, show_progress_bar=False)\n",
    "\n",
    "print(\"\\nBest Optuna Parameters:\")\n",
    "print(study.best_params)\n",
    "print(f\"Best CV R²: {study.best_value:.3f}\")\n",
    "\n",
    "# Train final model with best params\n",
    "best_rf_optuna = RandomForestRegressor(**study.best_params, random_state=42, n_jobs=-1)\n",
    "pipeline_best = Pipeline([\n",
    "    ('preprocessor', preprocessor),\n",
    "    ('regressor', best_rf_optuna)\n",
    "])\n",
    "\n",
    "pipeline_best.fit(X_train, y_train)\n",
    "y_pred_optuna = pipeline_best.predict(X_test)\n",
    "\n",
    "mae_optuna = mean_absolute_error(y_test, y_pred_optuna)\n",
    "rmse_optuna = np.sqrt(mean_squared_error(y_test, y_pred_optuna))\n",
    "r2_optuna = r2_score(y_test, y_pred_optuna)\n",
    "\n",
    "print(f\"\\nTest Set Performance:\")\n",
    "print(f\"  MAE  = {mae_optuna:,.0f}\")\n",
    "print(f\"  RMSE = {rmse_optuna:,.0f}\")\n",
    "print(f\"  R²   = {r2_optuna:.3f}\")"
   ]
  },
  {
   "cell_type": "code",
   "execution_count": 38,
   "id": "b876b320",
   "metadata": {},
   "outputs": [
    {
     "name": "stderr",
     "output_type": "stream",
     "text": [
      "2025/10/26 22:42:16 WARNING mlflow.models.model: `artifact_path` is deprecated. Please use `name` instead.\n",
      "2025/10/26 22:42:21 WARNING mlflow.utils.environment: Failed to resolve installed pip version. ``pip`` will be added to conda.yaml environment spec without a version specifier.\n",
      "2025/10/26 22:42:21 WARNING mlflow.models.model: Model logged without a signature and input example. Please set `input_example` parameter when logging the model to auto infer the model signature.\n"
     ]
    },
    {
     "name": "stdout",
     "output_type": "stream",
     "text": [
      "Logged Linear_Regression — RMSE: 2859, MAE: 1548, R²: 0.488\n"
     ]
    },
    {
     "name": "stderr",
     "output_type": "stream",
     "text": [
      "2025/10/26 22:42:21 WARNING mlflow.models.model: `artifact_path` is deprecated. Please use `name` instead.\n",
      "2025/10/26 22:42:26 WARNING mlflow.utils.environment: Failed to resolve installed pip version. ``pip`` will be added to conda.yaml environment spec without a version specifier.\n",
      "2025/10/26 22:42:26 WARNING mlflow.models.model: Model logged without a signature and input example. Please set `input_example` parameter when logging the model to auto infer the model signature.\n"
     ]
    },
    {
     "name": "stdout",
     "output_type": "stream",
     "text": [
      "Logged Tuned_Random_Forest_Optuna — RMSE: 1541, MAE: 695, R²: 0.851\n",
      "\n",
      "MLflow tracking complete!\n"
     ]
    }
   ],
   "source": [
    "\n",
    "mlflow.set_experiment(\"Steel_Production_Panel_Regression\")\n",
    "\n",
    "def log_model_with_mlflow(model, model_name, params, X_train, y_train, X_test, y_test):\n",
    "    with mlflow.start_run(run_name=model_name):\n",
    "        model.fit(X_train, y_train)\n",
    "        preds = model.predict(X_test)\n",
    "\n",
    "        rmse = np.sqrt(mean_squared_error(y_test, preds))\n",
    "        mae = mean_absolute_error(y_test, preds)\n",
    "        r2 = r2_score(y_test, preds)\n",
    "\n",
    "        mlflow.log_param(\"model\", model_name)\n",
    "        mlflow.log_params(params)\n",
    "        mlflow.log_metric(\"RMSE\", rmse)\n",
    "        mlflow.log_metric(\"MAE\", mae)\n",
    "        mlflow.log_metric(\"R2\", r2)\n",
    "\n",
    "        mlflow.sklearn.log_model(model, model_name)\n",
    "\n",
    "        print(f\"Logged {model_name} — RMSE: {rmse:.0f}, MAE: {mae:.0f}, R²: {r2:.3f}\")\n",
    "\n",
    "# Log Linear Regression\n",
    "log_model_with_mlflow(\n",
    "    pipeline_lr, \n",
    "    \"Linear_Regression\", \n",
    "    {\"type\": \"linear\"}, \n",
    "    X_train, y_train, X_test, y_test\n",
    ")\n",
    "\n",
    "# Log Tuned Random Forest \n",
    "log_model_with_mlflow(\n",
    "    pipeline_best, \n",
    "    \"Tuned_Random_Forest_Optuna\", \n",
    "    study.best_params, \n",
    "    X_train, y_train, X_test, y_test\n",
    ")\n",
    "\n",
    "print(\"\\nMLflow tracking complete!\")"
   ]
  },
  {
   "cell_type": "markdown",
   "id": "ea1ae1b9",
   "metadata": {},
   "source": [
    "Optuna uses Bayesian optimization to smartly explore hyperparameter space, learning from past trials to suggest better ones.\n",
    "Unlike Grid or Random Search, it doesn’t test combinations blindly — it adapts based on previous results.\n",
    "This makes it faster and more efficient, often reaching better models with fewer trials."
   ]
  },
  {
   "cell_type": "markdown",
   "id": "f87598c0",
   "metadata": {},
   "source": [
    "### **Task 4.3 – Model Storage**\n",
    "- Save the best performing model to a file (e.g., using joblib or MLflow’s model registry).  \n",
    "- Demonstrate loading the saved model and re-evaluating it on the test set.\n",
    "\n",
    "> 📝 *Markdown prompt:*  \n",
    "Why is it important to store both model parameters and metadata? How would you ensure version control of models in a production setting?\n",
    "\n",
    "---\n",
    "Storing both model parameters and metadata ensures reproducibility and auditability. Version control through MLflow or Git tracks updates and prevents accidental overwrites."
   ]
  },
  {
   "cell_type": "code",
   "execution_count": 39,
   "id": "0f22f5f8",
   "metadata": {},
   "outputs": [
    {
     "name": "stdout",
     "output_type": "stream",
     "text": [
      "Model saved to: best_random_forest_panel_model.pkl\n",
      "\n",
      "Reloaded Model Performance:\n",
      "  RMSE = 1,541\n",
      "  R²   = 0.851\n"
     ]
    }
   ],
   "source": [
    "best_model_path = \"best_random_forest_panel_model.pkl\"\n",
    "joblib.dump(pipeline_best, best_model_path)\n",
    "print(f\"Model saved to: {best_model_path}\")\n",
    "\n",
    "# Demonstrate loading\n",
    "loaded_model = joblib.load(best_model_path)\n",
    "y_pred_loaded = loaded_model.predict(X_test)\n",
    "\n",
    "rmse_loaded = np.sqrt(mean_squared_error(y_test, y_pred_loaded))\n",
    "r2_loaded = r2_score(y_test, y_pred_loaded)\n",
    "\n",
    "print(f\"\\nReloaded Model Performance:\")\n",
    "print(f\"  RMSE = {rmse_loaded:,.0f}\")\n",
    "print(f\"  R²   = {r2_loaded:.3f}\")\n"
   ]
  },
  {
   "cell_type": "markdown",
   "id": "36a082b9",
   "metadata": {},
   "source": [
    "\n",
    "## 🚀 5. Deployment & Monitoring (Conceptual)\n",
    "⏱ *Estimated time: 15–20 min*\n",
    "\n",
    "### 🧭 Objective  \n",
    "Reflect on how models transition from training to production and stay reliable over time.\n",
    "\n",
    "---\n",
    "\n",
    "### **Task 5.1 – Deployment Planning**\n",
    "> 📝 *Markdown prompt:*  \n",
    "Describe how you would deploy your model in a business environment (e.g., via REST API, batch pipeline).  \n",
    "Which metrics would you monitor in production?\n",
    "\n",
    "---"
   ]
  },
  {
   "cell_type": "markdown",
   "id": "92e0b2ac",
   "metadata": {},
   "source": [
    "The model would be deployed mainly through a batch pipeline, with an optional REST API for real-time queries. Batch runs could be scheduled monthly using Airflow, loading the saved model to predict production for active plants, storing results in a database, and displaying them via dashboards like Power BI or Tableau. A REST API (e.g., FastAPI in Docker) could support on-demand “what-if” queries such as testing how capacity increases affect output.\n",
    "\n",
    "In production, key metrics to monitor include MAE, RMSE, and R² for performance stability, as well as data quality indicators like missing values, distribution shifts, and outliers. Business metrics such as forecast coverage and prediction accuracy compared to actual production would ensure the system remains both reliable and useful."
   ]
  },
  {
   "cell_type": "markdown",
   "id": "e6668353",
   "metadata": {},
   "source": [
    "### **Task 5.2 – Detecting Model Drift**\n",
    "> 📝 *Markdown prompt:*  \n",
    "What signs might indicate your model needs retraining?  \n",
    "Give one example of **data drift** and one of **concept drift** relevant to steel plant production.\n",
    "\n",
    "---"
   ]
  },
  {
   "cell_type": "markdown",
   "id": "3fab7e45",
   "metadata": {},
   "source": [
    "Model retraining would be needed if MAE or RMSE steadily rise, predictions show bias, or input data begins to differ from the training distribution.\n",
    "\n",
    "An example of data drift would be an increase in Electric Arc Furnace (EAF) usage from 30% to 50% of plants, changing production patterns and causing prediction errors.\n",
    "\n",
    "An example of concept drift would occur during a market downturn when plants operate at 70% of capacity instead of 90%, breaking the prior capacity–production relationship. Monitoring feature distributions and residuals would help detect these issues and trigger retraining."
   ]
  },
  {
   "cell_type": "markdown",
   "id": "56595305",
   "metadata": {},
   "source": [
    "## 💬 6. Reflection\n",
    "⏱ *Estimated time: 10–15 min*\n",
    "\n",
    "> 📝 *Markdown prompt:*  \n",
    "1. Which step of the modelling lifecycle did you find most challenging and why?  \n",
    "2. What would you do differently if you had access to additional plant-level data?  \n",
    "3. How would you communicate model insights to a business audience?\n",
    "\n",
    "---"
   ]
  },
  {
   "cell_type": "markdown",
   "id": "07bf9e4d",
   "metadata": {},
   "source": [
    "The hardest step was restructuring the dataset from wide to long format to model yearly production per plant. It required recalculating time-varying features and using temporal splits. This clarified the need to deeply understand data structure before modeling.\n",
    "\n",
    "With more plant-level data, like monthly production, maintenance, or market demand, the model could better capture seasonality, economic effects, and true utilization.\n",
    "\n",
    "For communication, executives should see high-level performance and business impact; managers should receive actionable plant insights; and technical teams should get full model documentation. The goal is to adapt detail and language to each audience so insights lead to action."
   ]
  },
  {
   "cell_type": "markdown",
   "id": "835c237c",
   "metadata": {
    "vscode": {
     "languageId": "plaintext"
    }
   },
   "source": [
    "✅ **End of Lab**\n",
    "\n",
    "Next week: Short quiz on theoretical concepts (distributions, regression, model selection, and experiment tracking).\n",
    "\n"
   ]
  }
 ],
 "metadata": {
  "kernelspec": {
   "display_name": "lab1",
   "language": "python",
   "name": "python3"
  },
  "language_info": {
   "codemirror_mode": {
    "name": "ipython",
    "version": 3
   },
   "file_extension": ".py",
   "mimetype": "text/x-python",
   "name": "python",
   "nbconvert_exporter": "python",
   "pygments_lexer": "ipython3",
   "version": "3.13.8"
  }
 },
 "nbformat": 4,
 "nbformat_minor": 5
}
